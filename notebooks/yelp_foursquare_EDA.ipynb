{
 "cells": [
  {
   "cell_type": "code",
   "execution_count": 1,
   "metadata": {},
   "outputs": [],
   "source": [
    "# imports of python libraries\n",
    "import requests\n",
    "import os\n",
    "import pandas as pd\n",
    "import json"
   ]
  },
  {
   "cell_type": "code",
   "execution_count": 3,
   "metadata": {},
   "outputs": [
    {
     "data": {
      "text/html": [
       "<div>\n",
       "<style scoped>\n",
       "    .dataframe tbody tr th:only-of-type {\n",
       "        vertical-align: middle;\n",
       "    }\n",
       "\n",
       "    .dataframe tbody tr th {\n",
       "        vertical-align: top;\n",
       "    }\n",
       "\n",
       "    .dataframe thead th {\n",
       "        text-align: right;\n",
       "    }\n",
       "</style>\n",
       "<table border=\"1\" class=\"dataframe\">\n",
       "  <thead>\n",
       "    <tr style=\"text-align: right;\">\n",
       "      <th></th>\n",
       "      <th>Station_name</th>\n",
       "      <th>Available_bikes</th>\n",
       "      <th>Longitude</th>\n",
       "      <th>Latitude</th>\n",
       "    </tr>\n",
       "  </thead>\n",
       "  <tbody>\n",
       "    <tr>\n",
       "      <th>0</th>\n",
       "      <td>Cégep Marie-Victorin</td>\n",
       "      <td>10</td>\n",
       "      <td>-73.606011</td>\n",
       "      <td>45.617500</td>\n",
       "    </tr>\n",
       "    <tr>\n",
       "      <th>1</th>\n",
       "      <td>Gare d'autocars de Montréal (Berri / Ontario)</td>\n",
       "      <td>6</td>\n",
       "      <td>-73.564257</td>\n",
       "      <td>45.516926</td>\n",
       "    </tr>\n",
       "    <tr>\n",
       "      <th>2</th>\n",
       "      <td>Molson / William-Tremblay</td>\n",
       "      <td>6</td>\n",
       "      <td>-73.565012</td>\n",
       "      <td>45.541549</td>\n",
       "    </tr>\n",
       "    <tr>\n",
       "      <th>3</th>\n",
       "      <td>Ateliers municipaux de St-Laurent (Cavendish /...</td>\n",
       "      <td>11</td>\n",
       "      <td>-73.711186</td>\n",
       "      <td>45.506176</td>\n",
       "    </tr>\n",
       "    <tr>\n",
       "      <th>4</th>\n",
       "      <td>Place Rodolphe-Rousseau (Gohier / Édouard-Laurin)</td>\n",
       "      <td>7</td>\n",
       "      <td>-73.682498</td>\n",
       "      <td>45.512994</td>\n",
       "    </tr>\n",
       "    <tr>\n",
       "      <th>...</th>\n",
       "      <td>...</td>\n",
       "      <td>...</td>\n",
       "      <td>...</td>\n",
       "      <td>...</td>\n",
       "    </tr>\n",
       "    <tr>\n",
       "      <th>757</th>\n",
       "      <td>Jean-Talon / de l'Épée</td>\n",
       "      <td>14</td>\n",
       "      <td>-73.624063</td>\n",
       "      <td>45.527487</td>\n",
       "    </tr>\n",
       "    <tr>\n",
       "      <th>758</th>\n",
       "      <td>Gare LaSalle (Highlands)</td>\n",
       "      <td>4</td>\n",
       "      <td>-73.657136</td>\n",
       "      <td>45.425613</td>\n",
       "    </tr>\n",
       "    <tr>\n",
       "      <th>759</th>\n",
       "      <td>Métro St-Michel (Shaughnessy / St-Michel)</td>\n",
       "      <td>2</td>\n",
       "      <td>-73.599488</td>\n",
       "      <td>45.559076</td>\n",
       "    </tr>\n",
       "    <tr>\n",
       "      <th>760</th>\n",
       "      <td>St-Hubert / René-Levesque</td>\n",
       "      <td>4</td>\n",
       "      <td>-73.556487</td>\n",
       "      <td>45.514369</td>\n",
       "    </tr>\n",
       "    <tr>\n",
       "      <th>761</th>\n",
       "      <td>Durocher / Beaumont</td>\n",
       "      <td>10</td>\n",
       "      <td>-73.619200</td>\n",
       "      <td>45.527998</td>\n",
       "    </tr>\n",
       "  </tbody>\n",
       "</table>\n",
       "<p>762 rows × 4 columns</p>\n",
       "</div>"
      ],
      "text/plain": [
       "                                          Station_name  Available_bikes  \\\n",
       "0                                 Cégep Marie-Victorin               10   \n",
       "1        Gare d'autocars de Montréal (Berri / Ontario)                6   \n",
       "2                            Molson / William-Tremblay                6   \n",
       "3    Ateliers municipaux de St-Laurent (Cavendish /...               11   \n",
       "4    Place Rodolphe-Rousseau (Gohier / Édouard-Laurin)                7   \n",
       "..                                                 ...              ...   \n",
       "757                             Jean-Talon / de l'Épée               14   \n",
       "758                           Gare LaSalle (Highlands)                4   \n",
       "759          Métro St-Michel (Shaughnessy / St-Michel)                2   \n",
       "760                          St-Hubert / René-Levesque                4   \n",
       "761                                Durocher / Beaumont               10   \n",
       "\n",
       "     Longitude   Latitude  \n",
       "0   -73.606011  45.617500  \n",
       "1   -73.564257  45.516926  \n",
       "2   -73.565012  45.541549  \n",
       "3   -73.711186  45.506176  \n",
       "4   -73.682498  45.512994  \n",
       "..         ...        ...  \n",
       "757 -73.624063  45.527487  \n",
       "758 -73.657136  45.425613  \n",
       "759 -73.599488  45.559076  \n",
       "760 -73.556487  45.514369  \n",
       "761 -73.619200  45.527998  \n",
       "\n",
       "[762 rows x 4 columns]"
      ]
     },
     "execution_count": 3,
     "metadata": {},
     "output_type": "execute_result"
    }
   ],
   "source": [
    "# import citybike dataframe \n",
    "import pandas as pd\n",
    "citybike_df= pd.read_csv(\n",
    "                        f\"/Users/tinapham/Desktop/lighthouse-data-notes/ProJect/LHL_StatsModel_PythonProject/data/citybike.csv\", \n",
    "                        sep=\",\"\n",
    "                        )\n",
    "citybike_df"
   ]
  },
  {
   "cell_type": "code",
   "execution_count": 5,
   "metadata": {},
   "outputs": [],
   "source": [
    "# Set API KEY with user's environment variables\n",
    "import os\n",
    "FOUSQUARE_API_KEY   =os.environ[\"FOURSQUARE_API_KEY2\"]\n",
    "YELP_API_KEY        =os.environ[\"YELP_API_KEY\"]"
   ]
  },
  {
   "attachments": {},
   "cell_type": "markdown",
   "metadata": {},
   "source": [
    "# Foursquare"
   ]
  },
  {
   "attachments": {},
   "cell_type": "markdown",
   "metadata": {},
   "source": [
    "Send a request to Foursquare with a small radius (1000m) for all the bike stations in your city of choice. "
   ]
  },
  {
   "cell_type": "code",
   "execution_count": null,
   "metadata": {},
   "outputs": [],
   "source": [
    "import requests\n",
    "# NOTE: API get request only accept latitude and longitude as a string\n",
    "# Create a list of latitudes and longitudes from the citybike dataframe to pass through a for loop\n",
    "latitudes = citybike_df['Latitude'].tolist()\n",
    "longitudes = citybike_df['Longitude'].tolist()\n",
    "\n",
    "# Create an empty dictionary to store the json object from the API requist\n",
    "list_4square0=[]\n",
    "\n",
    "# Create a for loop that iterates over the list of (latitudes, longitudes) which can then be use to loop into a request url \n",
    "for latitude, longitude in zip(latitudes, longitudes):\n",
    "    \n",
    "    # Create a Foursquare API request within the for loop to iterates response over each pair of (latitudes, longitudes)\n",
    "    resquest_4square0 = requests.get(\n",
    "        \"https://api.foursquare.com/v3/places/search\",\n",
    "        params={\n",
    "            \"query\": [\"bar\",\"restaurant\",\"park\",\"museum\",\"market\",\"grocery\"],\n",
    "            \"ll\": f\"{latitude},{longitude}\",\n",
    "            \"radius\": 1000,\n",
    "            \"limit\": 50,\n",
    "        },\n",
    "        headers= {\n",
    "                \"Accept\": \"application/json\",\n",
    "                \"Authorization\": FOUSQUARE_API_KEY\n",
    "                }\n",
    "    )\n",
    "    list_4square0.append(resquest_4square0.json())\n",
    "    # Create a dictionary key with 'latitude_longitude' \n",
    "    #json_4square_key0= f'{latitude}_{longitude}'\n",
    "    \n",
    "    # Passing all the response json object into the dictionary using 'latitude_longitude' as key\n",
    "    #dict_json_4square0[json_4square_key0]=response_4square0.json()"
   ]
  },
  {
   "cell_type": "code",
   "execution_count": null,
   "metadata": {},
   "outputs": [],
   "source": [
    "# QA: number of key in the 4square response dictionary should match with number of row in citybike\n",
    "response_dict=len(list_4square0.keys())\n",
    "city_bike_df= citybike_df['Longitude'].count()\n",
    "if response_dict==city_bike_df:\n",
    "    print('Match')\n",
    "else:\n",
    "    print('Fail')"
   ]
  },
  {
   "cell_type": "code",
   "execution_count": null,
   "metadata": {},
   "outputs": [],
   "source": [
    "import json\n",
    "# Save response as .json file to limit amount of API request\n",
    "# with open(\"response_4square_list0.json\", \"w\") as outfile:\n",
    "    #json.dump(list_json_4square0, outfile)"
   ]
  },
  {
   "attachments": {},
   "cell_type": "markdown",
   "metadata": {},
   "source": [
    "Parse through the response to get the POI (such as restaurants, bars, etc) details you want (ratings, name, location, etc)"
   ]
  },
  {
   "cell_type": "code",
   "execution_count": null,
   "metadata": {},
   "outputs": [],
   "source": [
    "# Testing Obtain POI Name\n",
    "list_4square0[0]['results'][0]['name']\n",
    "# Json structure list--> result--> list-->'name'"
   ]
  },
  {
   "cell_type": "code",
   "execution_count": null,
   "metadata": {},
   "outputs": [],
   "source": [
    "# Empty list to contain all iterate object from the for loop\n",
    "list_4squareb=[]\n",
    "\n",
    "# Create the first for loop to extract data from results\n",
    "for i in range(len(list_4square0)):\n",
    "    list_4square_a=(list_4square0[i]['results'])\n",
    "    \n",
    "    # Create the second for loop to get data inside the list\n",
    "    for n in range(len(list_4square_a)):\n",
    "        list_4squareb.append(list_4square_a[n])\n",
    "\n",
    "# Parse list into a dataframe\n",
    "raw_4square_df=pd.json_normalize( list_4squareb)\n",
    "\n",
    "# Drop duplicate row from 'fsq_id'\n",
    "df_4square= raw_4square_df.drop_duplicates(subset='fsq_id')"
   ]
  },
  {
   "attachments": {},
   "cell_type": "markdown",
   "metadata": {},
   "source": [
    "Put your parsed results into a DataFrame"
   ]
  },
  {
   "cell_type": "code",
   "execution_count": null,
   "metadata": {},
   "outputs": [],
   "source": [
    "# Create an empty dictionary with key as the column for dataframe\n",
    "Clean_4square_dict={\"POI_Name\":[],\n",
    "                \"POI_distance\":[]}\n",
    "\n",
    "# Insert data into each column\n",
    "Clean_4square_dict['POI_Name']=df_4square['name']\n",
    "Clean_4square_dict['POI_distance']=df_4square['distance'].astype(int)\n",
    "Clean_4square_dict['POI_categories']= df_4square['categories']\n",
    "Clean_4square_dict['POI_Latitude']=df_4square['geocodes.main.latitude'].astype(float)\n",
    "Clean_4square_dict['POI_Longitude']=df_4square['geocodes.main.longitude'].astype(float)\n",
    "\n",
    "# Turn ditionary into a dataframe\n",
    "Clean_4square_df= pd.DataFrame(Clean_4square_dict)\n"
   ]
  },
  {
   "attachments": {},
   "cell_type": "markdown",
   "metadata": {},
   "source": [
    "# Yelp"
   ]
  },
  {
   "attachments": {},
   "cell_type": "markdown",
   "metadata": {},
   "source": [
    "Send a request to Yelp with a small radius (1000m) for all the bike stations in your city of choice. "
   ]
  },
  {
   "cell_type": "code",
   "execution_count": null,
   "metadata": {},
   "outputs": [],
   "source": [
    "import requests\n",
    "import json\n",
    "list_yelp0=[]\n",
    "for item, series in citybike_df.iterrows():\n",
    "    lat = series['Latitude']\n",
    "    long = series ['Longitude']\n",
    "    cat=[\"localflavor\",\"landmark\",\"park\", \"restaurant\",\"bar\"]\n",
    "    url_yelp = \"https://api.yelp.com/v3/businesses/search\"\n",
    "    params= {\"latitude\": lat,\n",
    "        \"longitude\": long,\n",
    "        \"categories\": cat,\n",
    "        \"radius\": 1000,\n",
    "        \"limit\": 50}\n",
    "    headers = {\n",
    "            \"accept\": \"application/json\",\n",
    "            \"Authorization\": 'Bearer %s' % YELP_API_KEY\n",
    "            }\n",
    "    response_yelp = requests.get(url_yelp, headers=headers, params=params)\n",
    "    data_yelp=response_yelp.json()\n",
    "    # NOTE: Yelp limit to 500 call per day, use range to stop the call at 500\n",
    "    #for i in range(0,499):\n",
    "    list_yelp0.append(data_yelp)"
   ]
  },
  {
   "cell_type": "code",
   "execution_count": null,
   "metadata": {},
   "outputs": [],
   "source": [
    "# Save data to limit API call\n",
    "# with open(\"response_yelp_list_raw.json\", \"w\") as outfile:\n",
    "    #json.dump(list_yelp0, outfile)"
   ]
  },
  {
   "attachments": {},
   "cell_type": "markdown",
   "metadata": {},
   "source": [
    "Parse through the response to get the POI (such as restaurants, bars, etc) details you want (ratings, name, location, etc)"
   ]
  },
  {
   "cell_type": "code",
   "execution_count": null,
   "metadata": {},
   "outputs": [],
   "source": [
    "# Empty list to contain all iterate object from the for loop\n",
    "list_yelp_b=[]\n",
    "\n",
    "# Create the first for loop to extract data from list:\n",
    "for i in range(0,499):\n",
    "    list_yelp_a=(list_yelp0[i])\n",
    "    \n",
    "    # Create the second for loop to get data inside the parents directory businesses\n",
    "    for n in range(len(list_yelp_a['businesses'])):\n",
    "        list_yelp_b.append(list_yelp_a['businesses'][n])\n",
    "\n",
    "# Parse list into a dataframe\n",
    "raw_yelp_df=pd.json_normalize( list_yelp_b)\n",
    "\n",
    "# Drop duplicate row from 'id'\n",
    "#df_yelp= raw_yelp_df.drop_duplicates(subset='id')"
   ]
  },
  {
   "attachments": {},
   "cell_type": "markdown",
   "metadata": {},
   "source": [
    "Put your parsed results into a DataFrame"
   ]
  },
  {
   "cell_type": "code",
   "execution_count": null,
   "metadata": {},
   "outputs": [],
   "source": []
  },
  {
   "cell_type": "code",
   "execution_count": null,
   "metadata": {},
   "outputs": [],
   "source": []
  },
  {
   "attachments": {},
   "cell_type": "markdown",
   "metadata": {},
   "source": []
  },
  {
   "attachments": {},
   "cell_type": "markdown",
   "metadata": {},
   "source": [
    "# Comparing Results"
   ]
  },
  {
   "attachments": {},
   "cell_type": "markdown",
   "metadata": {},
   "source": [
    "Which API provided you with more complete data? Provide an explanation. "
   ]
  },
  {
   "attachments": {},
   "cell_type": "markdown",
   "metadata": {},
   "source": [
    "Yelp provided more complete data. Yelp provided distance from each bike station, rating for POI, review count and details about each business. Foursquare does has rating on their normal website, however, maybe it is not provided due to data integrity."
   ]
  },
  {
   "attachments": {},
   "cell_type": "markdown",
   "metadata": {},
   "source": [
    "Get the top 10 restaurants according to their rating"
   ]
  },
  {
   "cell_type": "code",
   "execution_count": null,
   "metadata": {},
   "outputs": [],
   "source": []
  },
  {
   "cell_type": "code",
   "execution_count": null,
   "metadata": {},
   "outputs": [],
   "source": []
  },
  {
   "attachments": {},
   "cell_type": "markdown",
   "metadata": {},
   "source": [
    "#### Joining data to citybike_df"
   ]
  },
  {
   "cell_type": "code",
   "execution_count": null,
   "metadata": {},
   "outputs": [],
   "source": [
    "# Create a for loop to count for POI belong to each bike station from Foursquare\n",
    "POI_4square=[]\n",
    "# Parsing data from results\n",
    "for i in list_4square0:\n",
    "    POI_4square.append(i['results'])\n",
    "# Count for children from the parents results\n",
    "Count_4square_POI=[]\n",
    "for n in range(len(POI_4square)):\n",
    "    Count_4square_POI.append(len(POI_4square[n]))\n",
    "   "
   ]
  },
  {
   "cell_type": "code",
   "execution_count": null,
   "metadata": {},
   "outputs": [],
   "source": [
    "# Getting Yelp POI count\n",
    "POI_Yelp=[]\n",
    "# Parsing json object from businesses\n",
    "for i in range(len(list_yelp0)):\n",
    "    POI_Yelp.append(list_yelp0[i]['businesses'])\n",
    "    \n",
    "# Count for children from the parents results\n",
    "Count_Yelp_POI=[]\n",
    "for n in range(len(POI_Yelp)):\n",
    "    Count_Yelp_POI.append(len(POI_Yelp[n]))"
   ]
  },
  {
   "cell_type": "code",
   "execution_count": null,
   "metadata": {},
   "outputs": [],
   "source": [
    "# Joining the data to citybike_df\n",
    "citybike_df[\"Count_4square_POI\"]=Count_4square_POI\n",
    "citybike_df[\"Count_Yelp_POI\"]=Count_Yelp_POI"
   ]
  },
  {
   "cell_type": "code",
   "execution_count": null,
   "metadata": {},
   "outputs": [],
   "source": [
    "# Save the dataframe for later usage\n",
    "citybike_df.to_csv(r'/Users/tinapham/Desktop/lighthouse-data-notes/ProJect/LHL_StatsModel_PythonProject/data/joindf_clean.cvs', index=False)"
   ]
  }
 ],
 "metadata": {
  "kernelspec": {
   "display_name": "Python 3",
   "language": "python",
   "name": "python3"
  },
  "language_info": {
   "codemirror_mode": {
    "name": "ipython",
    "version": 3
   },
   "file_extension": ".py",
   "mimetype": "text/x-python",
   "name": "python",
   "nbconvert_exporter": "python",
   "pygments_lexer": "ipython3",
   "version": "3.9.16"
  }
 },
 "nbformat": 4,
 "nbformat_minor": 4
}
